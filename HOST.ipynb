{
 "cells": [
  {
   "cell_type": "code",
   "execution_count": null,
   "metadata": {},
   "outputs": [
    {
     "name": "stdout",
     "output_type": "stream",
     "text": [
      "get connect. IP: ('192.168.0.147', 57741)\n",
      "1\n",
      "Client message is: 1\n"
     ]
    }
   ],
   "source": [
    "# -*- coding: utf-8 -*-\n",
    "import socket\n",
    "HOST = '192.168.0.147'\n",
    "PORT = 8000\n",
    "\n",
    "server = socket.socket(socket.AF_INET, socket.SOCK_STREAM)\n",
    "server.bind((HOST, PORT))\n",
    "server.listen(10)\n",
    "\n",
    "\n",
    "while True:\n",
    "    conn, addr = server.accept()\n",
    "    print('get connect. IP:', addr)\n",
    "    \n",
    "    clientMessage = conn.recv(1024).decode()\n",
    "    print(clientMessage)\n",
    "    \n",
    "    print('Client message is:', int(clientMessage))\n",
    "\n",
    "    serverMessage = 'I\\'m here!'\n",
    "    conn.sendall(serverMessage.encode())\n",
    "    conn.close()"
   ]
  },
  {
   "cell_type": "code",
   "execution_count": null,
   "metadata": {},
   "outputs": [],
   "source": []
  },
  {
   "cell_type": "code",
   "execution_count": null,
   "metadata": {},
   "outputs": [],
   "source": []
  }
 ],
 "metadata": {
  "kernelspec": {
   "display_name": "Python 3",
   "language": "python",
   "name": "python3"
  },
  "language_info": {
   "codemirror_mode": {
    "name": "ipython",
    "version": 3
   },
   "file_extension": ".py",
   "mimetype": "text/x-python",
   "name": "python",
   "nbconvert_exporter": "python",
   "pygments_lexer": "ipython3",
   "version": "3.7.3"
  }
 },
 "nbformat": 4,
 "nbformat_minor": 4
}
